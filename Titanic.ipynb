{
 "cells": [
  {
   "cell_type": "markdown",
   "metadata": {},
   "source": [
    "# Titanic: Machine Learning from Disaster\n",
    "## Kaggle Competition\n",
    "\n",
    "Author : Imanpal Singh<br>\n",
    "Date Created : 09-06-20<br>\n",
    "Last modified : 09-06-20"
   ]
  },
  {
   "cell_type": "markdown",
   "metadata": {},
   "source": [
    "### Imports"
   ]
  },
  {
   "cell_type": "code",
   "execution_count": 1,
   "metadata": {},
   "outputs": [],
   "source": [
    "## Pandas 1.0.3\n",
    "import pandas as pd\n",
    "\n",
    "## Matplotlib 3.1.3\n",
    "from matplotlib import pyplot as plt\n",
    "\n",
    "# Scikit-learn 0.22.1\n",
    "from sklearn.preprocessing import LabelEncoder\n",
    "from sklearn.preprocessing import MinMaxScaler\n",
    "from sklearn.preprocessing import OneHotEncoder\n",
    "from sklearn.impute import SimpleImputer\n",
    "from sklearn.decomposition import PCA\n",
    "from sklearn.manifold import TSNE\n",
    "from sklearn.model_selection import train_test_split\n",
    "from sklearn.utils.class_weight import compute_class_weight\n",
    "\n",
    "from sklearn.ensemble import RandomForestClassifier,GradientBoostingClassifier\n",
    "from sklearn.svm import SVC\n",
    "from sklearn.neural_network import MLPClassifier\n",
    "from sklearn.tree import DecisionTreeClassifier\n",
    "from sklearn.metrics import precision_score,recall_score,f1_score\n",
    "\n",
    "\n",
    "\n",
    "# Numpy 1.81.1\n",
    "import numpy as np\n"
   ]
  },
  {
   "cell_type": "markdown",
   "metadata": {},
   "source": [
    "### Data Loading"
   ]
  },
  {
   "cell_type": "code",
   "execution_count": 2,
   "metadata": {},
   "outputs": [],
   "source": [
    "# Training dataset\n",
    "train = pd.read_csv('train.csv')\n",
    "\n",
    "# Test dataset\n",
    "test = pd.read_csv('test.csv')"
   ]
  },
  {
   "cell_type": "code",
   "execution_count": null,
   "metadata": {},
   "outputs": [],
   "source": []
  },
  {
   "cell_type": "markdown",
   "metadata": {},
   "source": [
    "### Preprocessing for Analysis"
   ]
  },
  {
   "cell_type": "markdown",
   "metadata": {},
   "source": [
    "#### Handling missing values"
   ]
  },
  {
   "cell_type": "code",
   "execution_count": 3,
   "metadata": {},
   "outputs": [
    {
     "name": "stdout",
     "output_type": "stream",
     "text": [
      "Missing values in PassengerId : 0.0% \n",
      "Missing values in Survived : 0.0% \n",
      "Missing values in Pclass : 0.0% \n",
      "Missing values in Name : 0.0% \n",
      "Missing values in Sex : 0.0% \n",
      "Missing values in Age : 0.19865319865319866% \n",
      "Missing values in SibSp : 0.0% \n",
      "Missing values in Parch : 0.0% \n",
      "Missing values in Ticket : 0.0% \n",
      "Missing values in Fare : 0.0% \n",
      "Missing values in Cabin : 0.7710437710437711% \n",
      "Missing values in Embarked : 0.002244668911335578% \n"
     ]
    }
   ],
   "source": [
    "numRows = len(train.index)\n",
    "## Percentage of missing values in columns\n",
    "for column in train.columns:\n",
    "    print(\"Missing values in {} : {}% \"\n",
    "          .format(column,train[column].isnull().sum()/numRows))"
   ]
  },
  {
   "cell_type": "markdown",
   "metadata": {},
   "source": [
    "Droping `Cabin` - due to high percentage of missing values <br>\n",
    "Dropping `passengerID`, `Name`, `Ticket` from domain knowledge"
   ]
  },
  {
   "cell_type": "code",
   "execution_count": 4,
   "metadata": {},
   "outputs": [],
   "source": [
    "train.drop(['PassengerId','Name','Ticket','Cabin'],axis=1,inplace=True)"
   ]
  },
  {
   "cell_type": "markdown",
   "metadata": {},
   "source": [
    "#### Imputing Label Encoding and Scaling"
   ]
  },
  {
   "cell_type": "code",
   "execution_count": 5,
   "metadata": {},
   "outputs": [],
   "source": [
    "## Seperating into Feature Matrix and vector of prediction\n",
    "X = train.iloc[:,1:].values\n",
    "y = train.iloc[:,0].values"
   ]
  },
  {
   "cell_type": "code",
   "execution_count": 6,
   "metadata": {},
   "outputs": [],
   "source": [
    "# Imputing, LabelEncoding for analysis \n",
    "XAnalysis = X\n",
    "XAnalysis[:,1],XAnalysis[:,6] = LabelEncoder().fit_transform(X[:,1]),LabelEncoder().fit_transform(X[:,5])\n",
    "XAnalysis = SimpleImputer().fit_transform(XAnalysis)"
   ]
  },
  {
   "cell_type": "code",
   "execution_count": 7,
   "metadata": {},
   "outputs": [],
   "source": [
    "# Separating for Plotting\n",
    "died = XAnalysis[y==0]\n",
    "survived = XAnalysis[y==1]\n",
    "columns = train.columns[1:]\n"
   ]
  },
  {
   "cell_type": "code",
   "execution_count": 8,
   "metadata": {},
   "outputs": [],
   "source": [
    "# Scaling for Principal Component Analaysis\n",
    "XPca =  MinMaxScaler().fit_transform(XAnalysis)\n",
    "XPca = PCA(n_components=2,random_state=20).fit_transform(XPca)"
   ]
  },
  {
   "cell_type": "markdown",
   "metadata": {},
   "source": [
    "### Exploratory data Anlaysis"
   ]
  },
  {
   "cell_type": "code",
   "execution_count": 9,
   "metadata": {},
   "outputs": [
    {
     "data": {
      "text/plain": [
       "Text(0.5, 0.98, 'Titanic histogram')"
      ]
     },
     "execution_count": 9,
     "metadata": {},
     "output_type": "execute_result"
    },
    {
     "data": {
      "image/png": "[encoded data removed]",
      "text/plain": [
       "<Figure size 720x360 with 7 Axes>"
      ]
     },
     "metadata": {
      "needs_background": "light"
     },
     "output_type": "display_data"
    }
   ],
   "source": [
    "## Checking which features can help in classifying better between died and survived\n",
    "fig,axes = plt.subplots(4,2, figsize=(10,5))\n",
    "ax = axes.ravel()\n",
    "\n",
    "for i in range(7):\n",
    "    \n",
    "    _,bins = np.histogram(XAnalysis[:,i],bins=20)\n",
    "    ax[i].hist(died[:,i], bins=bins, color='yellow',alpha=0.7)\n",
    "    ax[i].hist(survived[:, i], bins=bins, color='purple',alpha=0.7)\n",
    "    ax[i].set_title(columns[i])\n",
    "    ax[i].set_yticks(())\n",
    "    \n",
    "fig.tight_layout()\n",
    "fig.delaxes(axes[3,1])\n",
    "plt.suptitle(\"Titanic histogram\")"
   ]
  },
  {
   "cell_type": "markdown",
   "metadata": {},
   "source": [
    "#### Principal Component Analaysis"
   ]
  },
  {
   "cell_type": "code",
   "execution_count": 10,
   "metadata": {},
   "outputs": [
    {
     "data": {
      "text/plain": [
       "Text(0, 0.5, 'Second principal component')"
      ]
     },
     "execution_count": 10,
     "metadata": {},
     "output_type": "execute_result"
    },
    {
     "data": {
      "image/png": "[encoded data removed]",
      "text/plain": [
       "<Figure size 720x720 with 1 Axes>"
      ]
     },
     "metadata": {
      "needs_background": "light"
     },
     "output_type": "display_data"
    }
   ],
   "source": [
    "## Plotting principal component alnalysis n=2\n",
    "plt.figure(figsize=(10,10))\n",
    "plt.scatter(XPca[:, 0], XPca[:, 1], c=y)\n",
    "plt.gca().set_aspect(\"equal\")\n",
    "plt.xlabel(\"First principal component\")\n",
    "plt.ylabel(\"Second principal component\")"
   ]
  },
  {
   "cell_type": "markdown",
   "metadata": {},
   "source": [
    "#### t-SNE"
   ]
  },
  {
   "cell_type": "code",
   "execution_count": 11,
   "metadata": {},
   "outputs": [
    {
     "data": {
      "image/png": "[encoded data removed]",
      "text/plain": [
       "<Figure size 720x720 with 1 Axes>"
      ]
     },
     "metadata": {
      "needs_background": "light"
     },
     "output_type": "display_data"
    }
   ],
   "source": [
    "## t-SNE\n",
    "\n",
    "tsne = TSNE(random_state=42)\n",
    "XTsne = tsne.fit_transform(XPca)\n",
    "plt.figure(figsize=(10, 10))\n",
    "plt.xlim(XTsne[:, 0].min(), XTsne[:, 0].max() + 1)\n",
    "plt.ylim(XTsne[:, 1].min(), XTsne[:, 1].max() + 1)\n",
    "\n",
    "colors = ['yellow','purple']\n",
    "for i in range(len(XAnalysis)):\n",
    "    plt.scatter(XTsne[i, 0], XTsne[i, 1],color=colors[y[i]])\n"
   ]
  },
  {
   "cell_type": "markdown",
   "metadata": {},
   "source": [
    "### Preprocessing for model building"
   ]
  },
  {
   "cell_type": "code",
   "execution_count": 12,
   "metadata": {},
   "outputs": [],
   "source": [
    "# Getting dummies\n",
    "#train = pd.get_dummies(train)\n",
    "\n",
    "X = train.iloc[:,1:].values\n",
    "y = train.iloc[:,0].values\n",
    "# Splitting into training and test set\n",
    "XTrain, XTest, yTrain, yTest = train_test_split(X,y,test_size=0.08,stratify=y,random_state=20)\n",
    "\n",
    "# Computing class weights\n",
    "class_weights = compute_class_weight(class_weight='balanced',classes=np.unique(y),y=yTrain)\n",
    "class_weights = {_class : class_weights[_class] for _class in range(len(class_weights))}"
   ]
  },
  {
   "cell_type": "code",
   "execution_count": 13,
   "metadata": {},
   "outputs": [
    {
     "data": {
      "text/html": [
       "<div>\n",
       "<style scoped>\n",
       "    .dataframe tbody tr th:only-of-type {\n",
       "        vertical-align: middle;\n",
       "    }\n",
       "\n",
       "    .dataframe tbody tr th {\n",
       "        vertical-align: top;\n",
       "    }\n",
       "\n",
       "    .dataframe thead th {\n",
       "        text-align: right;\n",
       "    }\n",
       "</style>\n",
       "<table border=\"1\" class=\"dataframe\">\n",
       "  <thead>\n",
       "    <tr style=\"text-align: right;\">\n",
       "      <th></th>\n",
       "      <th>Survived</th>\n",
       "      <th>Pclass</th>\n",
       "      <th>Sex</th>\n",
       "      <th>Age</th>\n",
       "      <th>SibSp</th>\n",
       "      <th>Parch</th>\n",
       "      <th>Fare</th>\n",
       "      <th>Embarked</th>\n",
       "    </tr>\n",
       "  </thead>\n",
       "  <tbody>\n",
       "    <tr>\n",
       "      <th>0</th>\n",
       "      <td>0</td>\n",
       "      <td>3</td>\n",
       "      <td>male</td>\n",
       "      <td>22.0</td>\n",
       "      <td>1</td>\n",
       "      <td>0</td>\n",
       "      <td>7.2500</td>\n",
       "      <td>S</td>\n",
       "    </tr>\n",
       "    <tr>\n",
       "      <th>1</th>\n",
       "      <td>1</td>\n",
       "      <td>1</td>\n",
       "      <td>female</td>\n",
       "      <td>38.0</td>\n",
       "      <td>1</td>\n",
       "      <td>0</td>\n",
       "      <td>71.2833</td>\n",
       "      <td>C</td>\n",
       "    </tr>\n",
       "    <tr>\n",
       "      <th>2</th>\n",
       "      <td>1</td>\n",
       "      <td>3</td>\n",
       "      <td>female</td>\n",
       "      <td>26.0</td>\n",
       "      <td>0</td>\n",
       "      <td>0</td>\n",
       "      <td>7.9250</td>\n",
       "      <td>S</td>\n",
       "    </tr>\n",
       "    <tr>\n",
       "      <th>3</th>\n",
       "      <td>1</td>\n",
       "      <td>1</td>\n",
       "      <td>female</td>\n",
       "      <td>35.0</td>\n",
       "      <td>1</td>\n",
       "      <td>0</td>\n",
       "      <td>53.1000</td>\n",
       "      <td>S</td>\n",
       "    </tr>\n",
       "    <tr>\n",
       "      <th>4</th>\n",
       "      <td>0</td>\n",
       "      <td>3</td>\n",
       "      <td>male</td>\n",
       "      <td>35.0</td>\n",
       "      <td>0</td>\n",
       "      <td>0</td>\n",
       "      <td>8.0500</td>\n",
       "      <td>S</td>\n",
       "    </tr>\n",
       "    <tr>\n",
       "      <th>...</th>\n",
       "      <td>...</td>\n",
       "      <td>...</td>\n",
       "      <td>...</td>\n",
       "      <td>...</td>\n",
       "      <td>...</td>\n",
       "      <td>...</td>\n",
       "      <td>...</td>\n",
       "      <td>...</td>\n",
       "    </tr>\n",
       "    <tr>\n",
       "      <th>886</th>\n",
       "      <td>0</td>\n",
       "      <td>2</td>\n",
       "      <td>male</td>\n",
       "      <td>27.0</td>\n",
       "      <td>0</td>\n",
       "      <td>0</td>\n",
       "      <td>13.0000</td>\n",
       "      <td>S</td>\n",
       "    </tr>\n",
       "    <tr>\n",
       "      <th>887</th>\n",
       "      <td>1</td>\n",
       "      <td>1</td>\n",
       "      <td>female</td>\n",
       "      <td>19.0</td>\n",
       "      <td>0</td>\n",
       "      <td>0</td>\n",
       "      <td>30.0000</td>\n",
       "      <td>S</td>\n",
       "    </tr>\n",
       "    <tr>\n",
       "      <th>888</th>\n",
       "      <td>0</td>\n",
       "      <td>3</td>\n",
       "      <td>female</td>\n",
       "      <td>NaN</td>\n",
       "      <td>1</td>\n",
       "      <td>2</td>\n",
       "      <td>23.4500</td>\n",
       "      <td>S</td>\n",
       "    </tr>\n",
       "    <tr>\n",
       "      <th>889</th>\n",
       "      <td>1</td>\n",
       "      <td>1</td>\n",
       "      <td>male</td>\n",
       "      <td>26.0</td>\n",
       "      <td>0</td>\n",
       "      <td>0</td>\n",
       "      <td>30.0000</td>\n",
       "      <td>C</td>\n",
       "    </tr>\n",
       "    <tr>\n",
       "      <th>890</th>\n",
       "      <td>0</td>\n",
       "      <td>3</td>\n",
       "      <td>male</td>\n",
       "      <td>32.0</td>\n",
       "      <td>0</td>\n",
       "      <td>0</td>\n",
       "      <td>7.7500</td>\n",
       "      <td>Q</td>\n",
       "    </tr>\n",
       "  </tbody>\n",
       "</table>\n",
       "<p>891 rows × 8 columns</p>\n",
       "</div>"
      ],
      "text/plain": [
       "     Survived  Pclass     Sex   Age  SibSp  Parch     Fare Embarked\n",
       "0           0       3    male  22.0      1      0   7.2500        S\n",
       "1           1       1  female  38.0      1      0  71.2833        C\n",
       "2           1       3  female  26.0      0      0   7.9250        S\n",
       "3           1       1  female  35.0      1      0  53.1000        S\n",
       "4           0       3    male  35.0      0      0   8.0500        S\n",
       "..        ...     ...     ...   ...    ...    ...      ...      ...\n",
       "886         0       2    male  27.0      0      0  13.0000        S\n",
       "887         1       1  female  19.0      0      0  30.0000        S\n",
       "888         0       3  female   NaN      1      2  23.4500        S\n",
       "889         1       1    male  26.0      0      0  30.0000        C\n",
       "890         0       3    male  32.0      0      0   7.7500        Q\n",
       "\n",
       "[891 rows x 8 columns]"
      ]
     },
     "execution_count": 13,
     "metadata": {},
     "output_type": "execute_result"
    }
   ],
   "source": [
    "train"
   ]
  },
  {
   "cell_type": "markdown",
   "metadata": {},
   "source": [
    "Generating models"
   ]
  },
  {
   "cell_type": "code",
   "execution_count": 14,
   "metadata": {},
   "outputs": [],
   "source": [
    "# Generally a pipeline would be better but Just keeping it simple this time\n",
    "\n",
    "# Imputing missing values\n",
    "catImpute = SimpleImputer(strategy='most_frequent')\n",
    "catImpute = catImpute.fit(XTrain)"
   ]
  },
  {
   "cell_type": "code",
   "execution_count": 15,
   "metadata": {},
   "outputs": [],
   "source": [
    "# Imputing\n",
    "XTrain = catImpute.transform(XTrain)"
   ]
  },
  {
   "cell_type": "code",
   "execution_count": 16,
   "metadata": {},
   "outputs": [],
   "source": [
    "# One hot encoding categorical features and scaling continuous ones\n",
    "#(why did scikit-learn remove 'categorical_features' attribute -.-)\n",
    "Continuous = XTrain[:,[2,5]]\n",
    "Discrete = XTrain[:,[0,1,3,4,6]]\n",
    "scaler =  MinMaxScaler()   # Donot scale for Tree based models\n",
    "scaler.fit(Continuous)\n",
    "Continuous = scaler.transform(Continuous)\n",
    "encoder = OneHotEncoder(sparse=False,handle_unknown='ignore')\n",
    "encoder.fit(Discrete)\n",
    "Discrete = encoder.transform(Discrete)"
   ]
  },
  {
   "cell_type": "code",
   "execution_count": 17,
   "metadata": {},
   "outputs": [],
   "source": [
    "#combining to form one array\n",
    "XTrain = np.concatenate((Continuous,Discrete),axis=1)"
   ]
  },
  {
   "cell_type": "code",
   "execution_count": 18,
   "metadata": {},
   "outputs": [],
   "source": [
    "# Creating a function for preprocessing test data\n",
    "def PreprocessTest(Test):\n",
    "    \n",
    "    Test = catImpute.transform(Test)\n",
    "    Continuous = Test[:,[2,5]]\n",
    "    Discrete = Test[:,[0,1,3,4,6]]\n",
    "    Discrete = encoder.transform(Discrete)\n",
    "    return np.concatenate((Continuous,Discrete),axis=1)\n",
    "    "
   ]
  },
  {
   "cell_type": "code",
   "execution_count": 19,
   "metadata": {},
   "outputs": [],
   "source": [
    "XTest = PreprocessTest(XTest)"
   ]
  },
  {
   "cell_type": "code",
   "execution_count": 20,
   "metadata": {},
   "outputs": [],
   "source": [
    "def precisionRecallF1Score(yTrue,yPred):\n",
    "    \n",
    "    print(\"Precision Score : {}\".format(precision_score(yTrue,yPred)))\n",
    "    print(\"Recall Score : {}\".format(recall_score(yTrue,yPred)))\n",
    "    print(\"F1 Score : {}\".format(f1_score(yTrue,yPred)))\n",
    "    "
   ]
  },
  {
   "cell_type": "code",
   "execution_count": 21,
   "metadata": {},
   "outputs": [],
   "source": [
    "def classifier(clf):\n",
    "    clf.fit(XTrain,yTrain)\n",
    "    print(\"Test set score : \",clf.score(XTest,yTest))\n",
    "    print(\"Train set score : \",clf.score(XTrain,yTrain))\n",
    "\n",
    "    yPred = clf.predict(XTest)\n",
    "    precisionRecallF1Score(yTest,yPred)\n",
    "    \n",
    "    return clf"
   ]
  },
  {
   "cell_type": "markdown",
   "metadata": {},
   "source": [
    "### Building Model"
   ]
  },
  {
   "cell_type": "code",
   "execution_count": 33,
   "metadata": {},
   "outputs": [
    {
     "name": "stdout",
     "output_type": "stream",
     "text": [
      "Test set score :  0.8194444444444444\n",
      "Train set score :  0.9010989010989011\n",
      "Precision Score : 0.8571428571428571\n",
      "Recall Score : 0.6428571428571429\n",
      "F1 Score : 0.7346938775510204\n"
     ]
    }
   ],
   "source": [
    "# Random forest classifier ## Make sure scaling is not done\n",
    "rfc = RandomForestClassifier(max_depth=8,n_jobs=-1,class_weight=class_weights,random_state=140)\n",
    "rfc = classifier(rfc)\n"
   ]
  },
  {
   "cell_type": "code",
   "execution_count": 23,
   "metadata": {},
   "outputs": [
    {
     "name": "stdout",
     "output_type": "stream",
     "text": [
      "Test set score :  0.4027777777777778\n",
      "Train set score :  0.9023199023199023\n",
      "Precision Score : 0.39436619718309857\n",
      "Recall Score : 1.0\n",
      "F1 Score : 0.5656565656565656\n"
     ]
    }
   ],
   "source": [
    "gbt = GradientBoostingClassifier(random_state=20)\n",
    "gbt = classifier(gbt)"
   ]
  },
  {
   "cell_type": "code",
   "execution_count": 24,
   "metadata": {},
   "outputs": [
    {
     "name": "stdout",
     "output_type": "stream",
     "text": [
      "Test set score :  0.8194444444444444\n",
      "Train set score :  0.8205128205128205\n",
      "Precision Score : 0.9411764705882353\n",
      "Recall Score : 0.5714285714285714\n",
      "F1 Score : 0.7111111111111111\n"
     ]
    }
   ],
   "source": [
    "dtc = DecisionTreeClassifier(max_depth = 3,random_state=20)\n",
    "dtc = classifier(dtc)"
   ]
  },
  {
   "cell_type": "code",
   "execution_count": 25,
   "metadata": {},
   "outputs": [
    {
     "name": "stdout",
     "output_type": "stream",
     "text": [
      "Test set score :  0.3888888888888889\n",
      "Train set score :  0.8168498168498168\n",
      "Precision Score : 0.3888888888888889\n",
      "Recall Score : 1.0\n",
      "F1 Score : 0.56\n"
     ]
    }
   ],
   "source": [
    "# Support vector machine ## Make sure scaling is done\n",
    "svmclf = SVC(class_weight=class_weights)\n",
    "svmclf = classifier(svmclf)"
   ]
  },
  {
   "cell_type": "code",
   "execution_count": 26,
   "metadata": {},
   "outputs": [
    {
     "name": "stdout",
     "output_type": "stream",
     "text": [
      "Test set score :  0.7638888888888888\n",
      "Train set score :  0.8400488400488401\n",
      "Precision Score : 0.8235294117647058\n",
      "Recall Score : 0.5\n",
      "F1 Score : 0.6222222222222222\n"
     ]
    }
   ],
   "source": [
    "nnclf = MLPClassifier(max_iter=1000,)\n",
    "nnclf = classifier(nnclf)"
   ]
  },
  {
   "cell_type": "markdown",
   "metadata": {},
   "source": [
    "### Prediction"
   ]
  },
  {
   "cell_type": "code",
   "execution_count": 27,
   "metadata": {},
   "outputs": [],
   "source": [
    "#test.drop(['PassengerId','Name','Ticket','Cabin'],axis=1,inplace=True,errors='ignore')\n",
    "#XNew = PreprocessTest(test.values)"
   ]
  },
  {
   "cell_type": "code",
   "execution_count": 28,
   "metadata": {},
   "outputs": [],
   "source": [
    "# Chosing Randomforest  as prediciton\n",
    "#predictions  = nnclf.predict(XNew)\n",
    "#predictions = pd.DataFrame(predictions)\n",
    "#predictions.index.rename('PassengerId',inplace=True)\n",
    "#predictions.index +=892\n",
    "#predictions.columns = ['Survived']"
   ]
  },
  {
   "cell_type": "code",
   "execution_count": 29,
   "metadata": {},
   "outputs": [],
   "source": [
    "#predictions.to_csv('predictions.csv')"
   ]
  }
 ],
 "metadata": {
  "kernelspec": {
   "display_name": "Python 3",
   "language": "python",
   "name": "python3"
  },
  "language_info": {
   "codemirror_mode": {
    "name": "ipython",
    "version": 3
   },
   "file_extension": ".py",
   "mimetype": "text/x-python",
   "name": "python",
   "nbconvert_exporter": "python",
   "pygments_lexer": "ipython3",
   "version": "3.7.7"
  }
 },
 "nbformat": 4,
 "nbformat_minor": 4
}
